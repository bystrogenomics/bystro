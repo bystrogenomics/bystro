{
 "cells": [
  {
   "cell_type": "code",
   "execution_count": 26,
   "id": "b80677ed-5248-4b67-a898-f4c741c1a0b2",
   "metadata": {},
   "outputs": [],
   "source": [
    "from bystro.api.streaming import stream_file\n",
    "from bystro.api.annotation import get_jobs\n",
    "from bystro.api.auth import login\n",
    "\n",
    "import json"
   ]
  },
  {
   "cell_type": "code",
   "execution_count": 5,
   "id": "1e0491fd-64b9-42a4-b638-c3634ec71154",
   "metadata": {},
   "outputs": [],
   "source": [
    "user = login(email='email', password='password', host='https://bystro-dev.emory.edu')"
   ]
  },
  {
   "cell_type": "code",
   "execution_count": 27,
   "id": "aabfdb8f-fc4a-4448-bd6c-3eba2724f9ee",
   "metadata": {},
   "outputs": [
    {
     "name": "stdout",
     "output_type": "stream",
     "text": [
      "\n",
      "inputFileNames ['trio.trim.vep.vcf.gz']\n",
      "\n",
      "outputFileNames {\n",
      "  \"statistics\": {\n",
      "    \"tab\": \"trio_trim_vep_vcf-20240606205718896.statistics.tsv\",\n",
      "    \"json\": \"trio_trim_vep_vcf-20240606205718896.statistics.json\",\n",
      "    \"qc\": \"trio_trim_vep_vcf-20240606205718896.statistics.qc.tsv\"\n",
      "  },\n",
      "  \"dosageMatrixOutPath\": \"trio_trim_vep_vcf-20240606205718896.dosage.feather\",\n",
      "  \"config\": \"hg19.yml\",\n",
      "  \"header\": \"trio_trim_vep_vcf-20240606205718896.annotation.header.json\",\n",
      "  \"sampleList\": \"trio_trim_vep_vcf-20240606205718896.sample_list\",\n",
      "  \"annotation\": \"trio_trim_vep_vcf-20240606205718896.annotation.tsv.gz\",\n",
      "  \"log\": \"trio_trim_vep_vcf-20240606205718896.annotation.log.txt\"\n",
      "}\n",
      "\n",
      "ancestry resultPath /seqant/user-data/657a50d4b2d0278938ba791d/666222aeff6dd6f4188e642a/output/ancestry_results.json\n"
     ]
    }
   ],
   "source": [
    "jobs = get_jobs(job_type='completed')\n",
    "job = get_jobs(job_id='666222aeff6dd6f4188e642a')\n",
    "\n",
    "print(\"\\ninputFileNames\", job['inputFileNames'])\n",
    "print(\"\\noutputFileNames\", json.dumps(job['outputFileNames'], indent=2))\n",
    "print(\"\\nancestry resultPath\", job['ancestry']['resultPath'])"
   ]
  },
  {
   "cell_type": "code",
   "execution_count": null,
   "id": "6faf2e33-08fa-4c62-a679-930f7c627617",
   "metadata": {},
   "outputs": [],
   "source": []
  },
  {
   "cell_type": "code",
   "execution_count": 34,
   "id": "a0d36e6d-3033-48b9-820e-76f02968cc3c",
   "metadata": {},
   "outputs": [],
   "source": [
    "# Download a genetic output file by referencing outputFileNames\n",
    "stream_file(job_id=job['_id'], key_path='outputFileNames.dosageMatrixOutPath', out_dir='bar')\n",
    "stream_file(job_id=job['_id'], key_path='outputFileNames.annotation', out_dir='bar')\n",
    "stream_file(job_id=job['_id'], key_path='outputFileNames.statistics.tab', out_dir='bar')\n",
    "stream_file(job_id=job['_id'], key_path='outputFileNames.statistics.json', out_dir='bar')\n",
    "stream_file(job_id=job['_id'], key_path='outputFileNames.statistics.qc', out_dir='bar')\n",
    "stream_file(job_id=job['_id'], key_path='outputFileNames.config', out_dir='bar')\n",
    "stream_file(job_id=job['_id'], key_path='outputFileNames.header', out_dir='bar')\n",
    "stream_file(job_id=job['_id'], key_path='outputFileNames.sampleList', out_dir='bar')\n",
    "stream_file(job_id=job['_id'], key_path='outputFileNames.log', out_dir='bar')\n",
    "\n",
    "# Download a genetic input file by referencing inputFileNames (which are array valued)\n",
    "# Note that unless you modify your Bystro API server to retain files (we can discuss this), this will result in a File not found error\n",
    "try:\n",
    "    stream_file(job_id=job['_id'], key_path='inputFileNames.0', out_dir='bar')\n",
    "except RuntimeError as e:\n",
    "    assert str(e) == \"File not found.\"\n",
    "\n",
    "# Download an ancestry output (if available), by referencing the ancestry.resultPath\n",
    "# If this job was run without genotypes, the ancestry object will not have a resultPath\n",
    "stream_file(job_id=job['_id'], key_path='ancestry.resultPath', out_dir='bar')"
   ]
  }
 ],
 "metadata": {
  "kernelspec": {
   "display_name": "Python 3 (ipykernel)",
   "language": "python",
   "name": "python3"
  },
  "language_info": {
   "codemirror_mode": {
    "name": "ipython",
    "version": 3
   },
   "file_extension": ".py",
   "mimetype": "text/x-python",
   "name": "python",
   "nbconvert_exporter": "python",
   "pygments_lexer": "ipython3",
   "version": "3.11.9"
  }
 },
 "nbformat": 4,
 "nbformat_minor": 5
}
