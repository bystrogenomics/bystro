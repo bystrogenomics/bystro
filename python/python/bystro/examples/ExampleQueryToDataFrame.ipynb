{
 "cells": [
  {
   "cell_type": "code",
   "execution_count": 1,
   "id": "2258e740-1d36-43d5-a2d9-3807692495d4",
   "metadata": {},
   "outputs": [],
   "source": [
    "%load_ext autoreload\n",
    "%autoreload 2"
   ]
  },
  {
   "cell_type": "code",
   "execution_count": 2,
   "id": "e42314cf-ef21-460f-9bd6-41bd9a663862",
   "metadata": {},
   "outputs": [],
   "source": [
    "from bystro.api import auth, annotation\n",
    "from bystro.proteomics.annotation_interface import get_annotation_result_from_query, execute_query\n",
    "import pandas as pd\n",
    "import json"
   ]
  },
  {
   "cell_type": "code",
   "execution_count": 4,
   "id": "d89a6b89-75a7-4577-bdf1-93e1638eb790",
   "metadata": {},
   "outputs": [],
   "source": [
    "ancestry_json = None\n",
    "\n",
    "with open('ancestry_results.json', 'r') as f:\n",
    "    ancestry_json = json.load(f)"
   ]
  },
  {
   "cell_type": "code",
   "execution_count": 5,
   "id": "42e8c0ed-e762-4da8-805d-42a7233cb86a",
   "metadata": {},
   "outputs": [
    {
     "ename": "NameError",
     "evalue": "name 'results' is not defined",
     "output_type": "error",
     "traceback": [
      "\u001b[0;31m---------------------------------------------------------------------------\u001b[0m",
      "\u001b[0;31mNameError\u001b[0m                                 Traceback (most recent call last)",
      "Cell \u001b[0;32mIn[5], line 1\u001b[0m\n\u001b[0;32m----> 1\u001b[0m ancestry_df \u001b[38;5;241m=\u001b[39m pd\u001b[38;5;241m.\u001b[39mDataFrame(\u001b[43mresults\u001b[49m)\n\u001b[1;32m      2\u001b[0m ancestry_df\n",
      "\u001b[0;31mNameError\u001b[0m: name 'results' is not defined"
     ]
    }
   ],
   "source": [
    "ancestry_df = pd.DataFrame(results)\n",
    "ancestry_df"
   ]
  },
  {
   "cell_type": "code",
   "execution_count": 5,
   "id": "d7f7275a-0244-4567-9ef2-ec97ed0c9e52",
   "metadata": {},
   "outputs": [],
   "source": [
    "results = []\n",
    "for row in ancestry_json['results']:\n",
    "    # print(row)\n",
    "    max_superpop_prob = 0\n",
    "    max_superpop_label = None\n",
    "\n",
    "    for superpop, value in row['superpops'].items():\n",
    "        mean = (value['lowerBound'] + value['upperBound']) / 2\n",
    "\n",
    "        if mean > max_superpop_prob:\n",
    "            max_superpop_label = superpop\n",
    "            max_superpop_prob = mean\n",
    "    \n",
    "    results.append({\n",
    "       'sample_id': row['sampleId'],\n",
    "       'superpop_top_hit': superpop,\n",
    "       'superpop_top_hit_prob': max_superpop_prob\n",
    "    })"
   ]
  },
  {
   "cell_type": "code",
   "execution_count": 6,
   "id": "ca15c9c2-9050-4370-9871-d1c69e82a194",
   "metadata": {},
   "outputs": [
    {
     "name": "stdout",
     "output_type": "stream",
     "text": [
      "Existing session found, logging out\n"
     ]
    }
   ],
   "source": [
    "user = auth.login('akotlar@bu.edu', 'gonxug-xubram-nUbny6', 'https://bystro-dev.emory.edu', print_result=False)\n",
    "index = '661be6b20f228023b55a6927_657a50d4b2d0278938ba791d'"
   ]
  },
  {
   "cell_type": "code",
   "execution_count": 7,
   "id": "4f998a9e-17d3-4e28-98bc-61c018b13648",
   "metadata": {},
   "outputs": [],
   "source": [
    "results = annotation.get_jobs('completed')\n",
    "job_id = None\n",
    "index_name = None\n",
    "for res in results:\n",
    "    if 'big_daly' in res.name:\n",
    "        job_id = res._id\n",
    "        break\n",
    "job = annotation.get_jobs(job_id=job_id)"
   ]
  },
  {
   "cell_type": "code",
   "execution_count": 8,
   "id": "3b471a08-0bd0-474e-b6eb-66c56a7162c2",
   "metadata": {},
   "outputs": [
    {
     "data": {
      "text/plain": [
       "{'annotation': 'big_daly_vcf-20240414142242561-20240414142242572.annotation.tsv.gz',\n",
       " 'statistics': {'json': 'big_daly_vcf-20240414142242561-20240414142242572.statistics.json',\n",
       "  'qc': 'big_daly_vcf-20240414142242561-20240414142242572.statistics.qc.tsv',\n",
       "  'tab': 'big_daly_vcf-20240414142242561-20240414142242572.statistics.tsv'},\n",
       " 'config': 'hg38.yml',\n",
       " 'sampleList': 'big_daly_vcf-20240414142242561-20240414142242572.sample_list',\n",
       " 'dosageMatrixOutPath': 'big_daly_vcf-20240414142242561-20240414142242572.dosage.feather',\n",
       " 'header': 'big_daly_vcf-20240414142242561-20240414142242572.annotation.header.json',\n",
       " 'log': 'big_daly_vcf-20240414142242561-20240414142242572.annotation.log.txt'}"
      ]
     },
     "execution_count": 8,
     "metadata": {},
     "output_type": "execute_result"
    }
   ],
   "source": [
    "job['outputFileNames']"
   ]
  },
  {
   "cell_type": "code",
   "execution_count": 9,
   "id": "2d7d0ff7-d32b-47bb-9dd6-015d0cdea50c",
   "metadata": {},
   "outputs": [],
   "source": [
    "index_name = job['search']['indexName']"
   ]
  },
  {
   "cell_type": "code",
   "execution_count": 10,
   "id": "766d288c-530c-410f-826c-1abbc247d8d7",
   "metadata": {},
   "outputs": [
    {
     "data": {
      "text/plain": [
       "'661be6b20f228023b55a6927'"
      ]
     },
     "execution_count": 10,
     "metadata": {},
     "output_type": "execute_result"
    }
   ],
   "source": [
    "job_id"
   ]
  },
  {
   "cell_type": "code",
   "execution_count": null,
   "id": "e7024b8d-9206-496f-8c8d-71d58a3c208b",
   "metadata": {},
   "outputs": [
    {
     "name": "stdout",
     "output_type": "stream",
     "text": [
      "Before run: 0.158879744 GB\n"
     ]
    }
   ],
   "source": [
    "import psutil\n",
    "import os\n",
    "\n",
    "process = psutil.Process(os.getpid())\n",
    "print(f\"Before run: {process.memory_info().rss / 1e9} GB\")\n",
    "\n",
    "# Default behavior is to show 1 sample per row, e.g. `melt_samples=True`\n",
    "query_result_df_array_of_structs_select_fields = get_annotation_result_from_query(\n",
    "    query_string=\"cadd:>20\",\n",
    "    index_name=index_name,\n",
    "    bystro_api_auth=user,\n",
    "    fields=['refSeq.name2', 'refSeq.name', 'refSeq.exonicAlleleFunction', 'refSeq.siteType'],\n",
    "    explode_field='refSeq.name2',\n",
    "    tmp_dir='/mnt/ssd1/bystro/python/python/bystro/examples/tmp',\n",
    "    output_path='foo',\n",
    "    max_threads=8\n",
    ")\n",
    "process = psutil.Process(os.getpid())\n",
    "print(f\"After run: {process.memory_info().rss / 1e9} GB\")"
   ]
  },
  {
   "cell_type": "code",
   "execution_count": null,
   "id": "8cd94d47-dea4-4e26-9667-0ad725f614d6",
   "metadata": {},
   "outputs": [],
   "source": [
    "import pandas as pd\n",
    "df = pd.read_feather('0.feather')\n",
    "df"
   ]
  },
  {
   "cell_type": "code",
   "execution_count": null,
   "id": "0bcb4f4a-e9e7-442e-af13-d7c54128778a",
   "metadata": {},
   "outputs": [],
   "source": [
    "df.memory_usage(deep=True).sum()"
   ]
  },
  {
   "cell_type": "code",
   "execution_count": null,
   "id": "64a99595-4d34-419d-af49-852082c53c1d",
   "metadata": {},
   "outputs": [],
   "source": [
    "df = feather.read_feather('concat.feather', memory_map=True)"
   ]
  },
  {
   "cell_type": "code",
   "execution_count": null,
   "id": "68ec268b-7dbe-4f87-8d92-f5f031283706",
   "metadata": {},
   "outputs": [],
   "source": [
    "df.shape[0]/1e6"
   ]
  },
  {
   "cell_type": "code",
   "execution_count": null,
   "id": "9ef607ad-deec-486e-b466-79409e42c490",
   "metadata": {},
   "outputs": [],
   "source": [
    "import psutil\n",
    "import os\n",
    "psutil.Process(os.getpid()).memory_info().rss / 1e9"
   ]
  },
  {
   "cell_type": "code",
   "execution_count": null,
   "id": "b455e18d-14fd-49bc-851f-6d3df51afd2c",
   "metadata": {},
   "outputs": [],
   "source": [
    "! du -ah 'concat.feather'"
   ]
  },
  {
   "cell_type": "code",
   "execution_count": null,
   "id": "649cb8fe-2507-4f2c-ad9a-baa34b08ab65",
   "metadata": {},
   "outputs": [],
   "source": [
    "! du -ah '0.feather'"
   ]
  },
  {
   "cell_type": "code",
   "execution_count": null,
   "id": "db86f040-b8c9-4bf8-886b-807ac5d99420",
   "metadata": {},
   "outputs": [],
   "source": [
    "concatenate_feather_files_memory_mapped(['0.feather', '0.feather', '0.feather', '0.feather', '0.feather', \n",
    "                                         '0.feather', '0.feather', '0.feather', '0.feather', '0.feather', '0.feather', '0.feather'], output_file='concat.feather')"
   ]
  },
  {
   "cell_type": "code",
   "execution_count": null,
   "id": "15de4b7e-7299-4b08-85be-243286b7e576",
   "metadata": {},
   "outputs": [],
   "source": [
    "4358583520/1e6"
   ]
  },
  {
   "cell_type": "code",
   "execution_count": null,
   "id": "4689dd8d-4e45-4563-92d9-cec08e9ed0c9",
   "metadata": {},
   "outputs": [],
   "source": [
    "pwd"
   ]
  },
  {
   "cell_type": "code",
   "execution_count": null,
   "id": "ccd5369c-dc9f-4270-9cdf-3587b7bb6d4b",
   "metadata": {},
   "outputs": [],
   "source": [
    "query_result_df_array_of_structs_select_fields['sample'].apply(lambda x: \"FOO\" if x == 1847 else \"BAR\")"
   ]
  },
  {
   "cell_type": "code",
   "execution_count": null,
   "id": "5c067957-27ad-4e99-a699-80e54875e884",
   "metadata": {},
   "outputs": [],
   "source": [
    "query_result_df_array_of_structs_select_fields.to_csv('query_result_df_array_of_structs_select_fields_exploded.csv')"
   ]
  },
  {
   "cell_type": "code",
   "execution_count": null,
   "id": "59280be4-7d60-4978-af29-0f64da90eccf",
   "metadata": {},
   "outputs": [],
   "source": [
    "query_result_df_array_of_structs_select_fields[query_result_df_array_of_structs_select_fields['locus'] == \"chr17:40699291:G:A\"]"
   ]
  },
  {
   "cell_type": "code",
   "execution_count": null,
   "id": "fba4a330-b1c5-41f1-a1b4-387777c56732",
   "metadata": {},
   "outputs": [],
   "source": [
    "merged_df = query_result_df_array_of_structs_select_fields.merge(ancestry_df, left_on='sample', right_on='sample_id')"
   ]
  },
  {
   "cell_type": "code",
   "execution_count": null,
   "id": "b32ce0d2-4acb-48a6-93d5-2bbda65b5445",
   "metadata": {},
   "outputs": [],
   "source": [
    "# You can choose to also \"melt\" the dataframe by a field,\n",
    "# so that when the field has an array value, it is flattened\n",
    "# When the primary key of the track isn't found, by default we force that \n",
    "# field to have 1 value per row, and warn you of this behavior.\n",
    "# To change it, set `force_flatten_exploded_field=False`\n",
    "query_result_df = get_annotation_result_from_query(\n",
    "    query_string=\"(type:del && (alt:\\-6 || alt:\\-1)) || (cadd:>40)\",\n",
    "    index_name=index,\n",
    "    bystro_api_auth=user,\n",
    "    melt_samples=True,\n",
    "    explode_field='refSeq.name2',\n",
    "    fields=['refSeq.name2', 'refSeq.spID', 'refSeq.name'],\n",
    "    force_flatten_exploded_field=False\n",
    ")\n",
    "query_result_df[['refSeq.name2', 'refSeq.spID']]"
   ]
  },
  {
   "cell_type": "code",
   "execution_count": null,
   "id": "820b87d3-a16b-4fc2-8769-550b6594655e",
   "metadata": {},
   "outputs": [],
   "source": [
    "# You can disable sample melting by setting `melt_samples=False`\n",
    "query_result_df = await async_get_annotation_result_from_query(\n",
    "    query_string=\"(type:del && (alt:\\-6 || alt:\\-1)) || (cadd:>40)\",\n",
    "    index_name=index,\n",
    "    bystro_api_auth=user,\n",
    "    fields=['refSeq.name2', 'refSeq.name'],\n",
    "    melt_samples=False,\n",
    "    explode_field='refSeq.name2'\n",
    ")\n",
    "query_result_df.head(n=10)"
   ]
  },
  {
   "cell_type": "code",
   "execution_count": null,
   "id": "100870ca-71eb-4af3-a36e-2fbb7f8c9055",
   "metadata": {},
   "outputs": [],
   "source": [
    "# You can also represent tracks that have multiple fields by dictionaries, instead of flattening\n",
    "# the dictionaries into separate columns, by setting `structs_of_arrays=False`\n",
    "# This is currently incompatible with `explode_field` and `fields`\n",
    "query_result_df_array_of_structs_no_melt = get_annotation_result_from_query(\n",
    "    query_string=\"*\",\n",
    "    index_name=index,\n",
    "    bystro_api_auth=user,\n",
    "    structs_of_arrays=False\n",
    ")\n",
    "query_result_df_array_of_structs_no_melt.head(n=10)"
   ]
  }
 ],
 "metadata": {
  "kernelspec": {
   "display_name": "Python 3 (ipykernel)",
   "language": "python",
   "name": "python3"
  },
  "language_info": {
   "codemirror_mode": {
    "name": "ipython",
    "version": 3
   },
   "file_extension": ".py",
   "mimetype": "text/x-python",
   "name": "python",
   "nbconvert_exporter": "python",
   "pygments_lexer": "ipython3",
   "version": "3.11.8"
  }
 },
 "nbformat": 4,
 "nbformat_minor": 5
}
