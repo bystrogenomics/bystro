{
 "cells": [
  {
   "cell_type": "code",
   "execution_count": 1,
   "id": "2258e740-1d36-43d5-a2d9-3807692495d4",
   "metadata": {},
   "outputs": [],
   "source": [
    "%load_ext autoreload\n",
    "%autoreload 2"
   ]
  },
  {
   "cell_type": "code",
   "execution_count": 2,
   "id": "fc19a0d8-03f2-44e8-b85a-8ff5cdc9dfc6",
   "metadata": {},
   "outputs": [
    {
     "name": "stdout",
     "output_type": "stream",
     "text": [
      "Requirement already satisfied: polars in /home/alexkotlar/miniconda3/envs/bystro/lib/python3.11/site-packages (0.20.25)\n",
      "Collecting polars\n",
      "  Downloading polars-0.20.31-cp38-abi3-manylinux_2_17_x86_64.manylinux2014_x86_64.whl.metadata (14 kB)\n",
      "Downloading polars-0.20.31-cp38-abi3-manylinux_2_17_x86_64.manylinux2014_x86_64.whl (28.8 MB)\n",
      "\u001b[2K   \u001b[38;2;114;156;31m━━━━━━━━━━━━━━━━━━━━━━━━━━━━━━━━━━━━━━━━\u001b[0m \u001b[32m28.8/28.8 MB\u001b[0m \u001b[31m53.2 MB/s\u001b[0m eta \u001b[36m0:00:00\u001b[0mm eta \u001b[36m0:00:01\u001b[0m[36m0:00:01\u001b[0mm\n",
      "\u001b[?25hInstalling collected packages: polars\n",
      "  Attempting uninstall: polars\n",
      "    Found existing installation: polars 0.20.25\n",
      "    Uninstalling polars-0.20.25:\n",
      "      Successfully uninstalled polars-0.20.25\n",
      "Successfully installed polars-0.20.31\n",
      "Note: you may need to restart the kernel to use updated packages.\n"
     ]
    }
   ],
   "source": [
    "pip install --upgrade polars"
   ]
  },
  {
   "cell_type": "code",
   "execution_count": 2,
   "id": "e42314cf-ef21-460f-9bd6-41bd9a663862",
   "metadata": {},
   "outputs": [],
   "source": [
    "from bystro.api import auth, annotation\n",
    "from bystro.proteomics.annotation_interface import get_annotation_result_from_query, execute_query\n",
    "import pandas as pd\n",
    "import json"
   ]
  },
  {
   "cell_type": "code",
   "execution_count": 3,
   "id": "d89a6b89-75a7-4577-bdf1-93e1638eb790",
   "metadata": {},
   "outputs": [],
   "source": [
    "ancestry_json = None\n",
    "\n",
    "with open('ancestry_results.json', 'r') as f:\n",
    "    ancestry_json = json.load(f)"
   ]
  },
  {
   "cell_type": "code",
   "execution_count": 4,
   "id": "d7f7275a-0244-4567-9ef2-ec97ed0c9e52",
   "metadata": {},
   "outputs": [],
   "source": [
    "results = []\n",
    "for row in ancestry_json['results']:\n",
    "    # print(row)\n",
    "    max_superpop_prob = 0\n",
    "    max_superpop_label = None\n",
    "\n",
    "    for superpop, value in row['superpops'].items():\n",
    "        mean = (value['lowerBound'] + value['upperBound']) / 2\n",
    "\n",
    "        if mean > max_superpop_prob:\n",
    "            max_superpop_label = superpop\n",
    "            max_superpop_prob = mean\n",
    "    \n",
    "    results.append({\n",
    "       'sample_id': row['sampleId'],\n",
    "       'superpop_top_hit': superpop,\n",
    "       'superpop_top_hit_prob': max_superpop_prob\n",
    "    })"
   ]
  },
  {
   "cell_type": "code",
   "execution_count": null,
   "id": "42e8c0ed-e762-4da8-805d-42a7233cb86a",
   "metadata": {},
   "outputs": [],
   "source": [
    "ancestry_df = pd.DataFrame(results)\n",
    "ancestry_df"
   ]
  },
  {
   "cell_type": "code",
   "execution_count": 3,
   "id": "ca15c9c2-9050-4370-9871-d1c69e82a194",
   "metadata": {},
   "outputs": [
    {
     "name": "stdout",
     "output_type": "stream",
     "text": [
      "Existing session found, logging out\n"
     ]
    }
   ],
   "source": [
    "user = auth.login('akotlar@bu.edu', 'gonxug-xubram-nUbny6', 'https://bystro-dev.emory.edu', print_result=False)\n",
    "index = '661be6b20f228023b55a6927_657a50d4b2d0278938ba791d'"
   ]
  },
  {
   "cell_type": "code",
   "execution_count": 4,
   "id": "4f998a9e-17d3-4e28-98bc-61c018b13648",
   "metadata": {},
   "outputs": [],
   "source": [
    "results = annotation.get_jobs('completed')\n",
    "job_id = None\n",
    "index_name = None\n",
    "for res in results:\n",
    "    if 'big_daly' in res.name:\n",
    "        job_id = res._id\n",
    "        break\n",
    "job = annotation.get_jobs(job_id=job_id)"
   ]
  },
  {
   "cell_type": "code",
   "execution_count": 5,
   "id": "3b471a08-0bd0-474e-b6eb-66c56a7162c2",
   "metadata": {},
   "outputs": [
    {
     "data": {
      "text/plain": [
       "{'annotation': 'big_daly_vcf-20240414142242561-20240414142242572.annotation.tsv.gz',\n",
       " 'statistics': {'json': 'big_daly_vcf-20240414142242561-20240414142242572.statistics.json',\n",
       "  'qc': 'big_daly_vcf-20240414142242561-20240414142242572.statistics.qc.tsv',\n",
       "  'tab': 'big_daly_vcf-20240414142242561-20240414142242572.statistics.tsv'},\n",
       " 'config': 'hg38.yml',\n",
       " 'sampleList': 'big_daly_vcf-20240414142242561-20240414142242572.sample_list',\n",
       " 'dosageMatrixOutPath': 'big_daly_vcf-20240414142242561-20240414142242572.dosage.feather',\n",
       " 'header': 'big_daly_vcf-20240414142242561-20240414142242572.annotation.header.json',\n",
       " 'log': 'big_daly_vcf-20240414142242561-20240414142242572.annotation.log.txt'}"
      ]
     },
     "execution_count": 5,
     "metadata": {},
     "output_type": "execute_result"
    }
   ],
   "source": [
    "job['outputFileNames']"
   ]
  },
  {
   "cell_type": "code",
   "execution_count": 6,
   "id": "2d7d0ff7-d32b-47bb-9dd6-015d0cdea50c",
   "metadata": {},
   "outputs": [],
   "source": [
    "index_name = job['search']['indexName']"
   ]
  },
  {
   "cell_type": "code",
   "execution_count": 7,
   "id": "766d288c-530c-410f-826c-1abbc247d8d7",
   "metadata": {},
   "outputs": [
    {
     "data": {
      "text/plain": [
       "'661be6b20f228023b55a6927'"
      ]
     },
     "execution_count": 7,
     "metadata": {},
     "output_type": "execute_result"
    }
   ],
   "source": [
    "job_id"
   ]
  },
  {
   "cell_type": "code",
   "execution_count": 12,
   "id": "dc3a25e3-b215-4b47-8e43-3c33319b1bb7",
   "metadata": {},
   "outputs": [
    {
     "name": "stdout",
     "output_type": "stream",
     "text": [
      "92G\ttmp\n"
     ]
    }
   ],
   "source": [
    "!du -sh \"tmp\""
   ]
  },
  {
   "cell_type": "code",
   "execution_count": null,
   "id": "e7024b8d-9206-496f-8c8d-71d58a3c208b",
   "metadata": {},
   "outputs": [
    {
     "name": "stdout",
     "output_type": "stream",
     "text": [
      "Before run: 0.209395712 GB\n"
     ]
    }
   ],
   "source": [
    "import psutil\n",
    "import os\n",
    "\n",
    "process = psutil.Process(os.getpid())\n",
    "print(f\"Before run: {process.memory_info().rss / 1e9} GB\")\n",
    "\n",
    "# Default behavior is to show 1 sample per row, e.g. `melt_samples=True`\n",
    "query_result_df_array_of_structs_select_fields = get_annotation_result_from_query(\n",
    "    query_string=\"cadd:>10\",\n",
    "    index_name=index_name,\n",
    "    bystro_api_auth=user,\n",
    "    fields=['refSeq.name2', 'refSeq.name', 'refSeq.exonicAlleleFunction', 'refSeq.siteType'],\n",
    "    explode_field='refSeq.name2',\n",
    "    tmp_dir='/mnt/ssd2/tmp',\n",
    "    output_path='/mnt/ssd2/example_cadd_10_query.feather',\n",
    "    max_threads=8,\n",
    "    as_arrow_table=True\n",
    ")\n",
    "process = psutil.Process(os.getpid())\n",
    "print(f\"After run: {process.memory_info().rss / 1e9} GB\")"
   ]
  },
  {
   "cell_type": "code",
   "execution_count": 3,
   "id": "6adaeadb-f153-4239-b19e-7d0112858fcf",
   "metadata": {},
   "outputs": [],
   "source": [
    "import glob\n",
    "\n",
    "feather_files = glob.glob('/mnt/ssd2/tmp/*.feather')\n",
    "output_parquet_file = '/mnt/ssd2/example_cadd_10_query.parquet'\n",
    "output_feather_file = '/mnt/ssd2/example_cadd_10_query.feather'"
   ]
  },
  {
   "cell_type": "code",
   "execution_count": 4,
   "id": "9c9a5dee-137e-4336-9f15-5e63921b2cf0",
   "metadata": {},
   "outputs": [
    {
     "data": {
      "text/plain": [
       "chrom: string\n",
       "pos: int64\n",
       "vcfPos: int64\n",
       "inputRef: string\n",
       "alt: string\n",
       "type: string\n",
       "id: string\n",
       "locus: string\n",
       "sample: string\n",
       "dosage: int64\n",
       "refSeq.name2: string\n",
       "refSeq.name: string\n",
       "refSeq.exonicAlleleFunction: string\n",
       "refSeq.siteType: string\n",
       "-- schema metadata --\n",
       "pandas: '{\"index_columns\": [{\"kind\": \"range\", \"name\": null, \"start\": 0, \"' + 1882"
      ]
     },
     "execution_count": 4,
     "metadata": {},
     "output_type": "execute_result"
    }
   ],
   "source": [
    "import pyarrow.dataset as ds\n",
    "\n",
    "dataset = ds.dataset(feather_files, format=\"feather\")\n",
    "dataset.schema"
   ]
  },
  {
   "cell_type": "code",
   "execution_count": 2,
   "id": "539f4512-e00f-4ad6-9f95-da2759bf3d3d",
   "metadata": {},
   "outputs": [
    {
     "ename": "KeyboardInterrupt",
     "evalue": "",
     "output_type": "error",
     "traceback": [
      "\u001b[0;31m---------------------------------------------------------------------------\u001b[0m",
      "\u001b[0;31mKeyboardInterrupt\u001b[0m                         Traceback (most recent call last)",
      "Cell \u001b[0;32mIn[2], line 9\u001b[0m\n\u001b[1;32m      7\u001b[0m \u001b[38;5;28;01mwith\u001b[39;00m pa\u001b[38;5;241m.\u001b[39mipc\u001b[38;5;241m.\u001b[39mnew_file(sink, dataset\u001b[38;5;241m.\u001b[39mschema) \u001b[38;5;28;01mas\u001b[39;00m writer:\n\u001b[1;32m      8\u001b[0m     \u001b[38;5;28;01mfor\u001b[39;00m batch \u001b[38;5;129;01min\u001b[39;00m dataset\u001b[38;5;241m.\u001b[39mto_batches(batch_readahead\u001b[38;5;241m=\u001b[39m\u001b[38;5;241m0\u001b[39m, fragment_readahead\u001b[38;5;241m=\u001b[39m\u001b[38;5;241m0\u001b[39m):\n\u001b[0;32m----> 9\u001b[0m         \u001b[43mwriter\u001b[49m\u001b[38;5;241;43m.\u001b[39;49m\u001b[43mwrite_batch\u001b[49m\u001b[43m(\u001b[49m\u001b[43mbatch\u001b[49m\u001b[43m)\u001b[49m\n",
      "\u001b[0;31mKeyboardInterrupt\u001b[0m: "
     ]
    }
   ],
   "source": [
    "# Too memory heavy\n",
    "\n",
    "import pyarrow as pa\n",
    "import pyarrow.dataset as ds\n",
    "sink = pa.BufferOutputStream()\n",
    "\n",
    "dataset = ds.dataset(feather_files, format=\"feather\")\n",
    "\n",
    "with pa.ipc.new_file(sink, dataset.schema) as writer:\n",
    "    for batch in dataset.to_batches(batch_readahead=0, fragment_readahead=0):\n",
    "        writer.write_batch(batch)"
   ]
  },
  {
   "cell_type": "code",
   "execution_count": null,
   "id": "061258c0-3715-4fbf-92b1-787e00662b08",
   "metadata": {},
   "outputs": [],
   "source": [
    "# Too memory hungry\n",
    "\n",
    "import pyarrow.dataset as ds\n",
    "import pyarrow.parquet as pq\n",
    "\n",
    "dataset = ds.dataset(feather_files, format=\"feather\")\n",
    "pq.write_table(dataset, output_parquet_file)"
   ]
  },
  {
   "cell_type": "code",
   "execution_count": null,
   "id": "8747c965-4850-4541-be7f-cd0278fc18ba",
   "metadata": {},
   "outputs": [],
   "source": [
    "# Too memory heavy\n",
    "\n",
    "collected_batches = []\n",
    "\n",
    "for feather_file in feather_files:\n",
    "    # Read the Feather file\n",
    "    table = feather.read_table(feather_file)\n",
    "    \n",
    "    # Collect batches\n",
    "    collected_batches.extend(table.to_batches())\n",
    "\n",
    "# Combine collected batches into a single table\n",
    "combined_table = pa.Table.from_batches(collected_batches)\n",
    "\n",
    "# Write the combined table to a Feather file\n",
    "output_feather_file = \"/path/to/output/combined.feather\"\n",
    "feather.write_table(combined_table, output_feather_file)"
   ]
  },
  {
   "cell_type": "code",
   "execution_count": 2,
   "id": "9e4534f0-28e6-4344-862b-1e0a279a4bdf",
   "metadata": {},
   "outputs": [],
   "source": [
    "# Slow but OK\n",
    "\n",
    "from pyarrow import feather\n",
    "import pyarrow.parquet as pq\n",
    "\n",
    "writer = None\n",
    "for feather_file in feather_files:\n",
    "    # Read the Feather file\n",
    "    table = feather.read_table(feather_file)\n",
    "\n",
    "    if writer is None:\n",
    "        # Create a Parquet writer on the first iteration\n",
    "        writer = pq.ParquetWriter(output_parquet_file, table.schema)\n",
    "    \n",
    "    # Write the table to the Parquet file\n",
    "    writer.write_table(table)\n",
    "\n",
    "# Close the writer\n",
    "if writer:\n",
    "    writer.close()"
   ]
  },
  {
   "cell_type": "code",
   "execution_count": null,
   "id": "97031a94-3e44-476f-8117-34177c4b45b6",
   "metadata": {},
   "outputs": [],
   "source": [
    "# too memory hungry\n",
    "import pandas as pd\n",
    "\n",
    "df = pd.read_parquet(output_parquet_file, engine='pyarrow')\n",
    "df"
   ]
  },
  {
   "cell_type": "code",
   "execution_count": 4,
   "id": "0f3af3c1-9ed1-4e7b-a99f-ae8a7feb239b",
   "metadata": {},
   "outputs": [],
   "source": [
    "import polars\n",
    "lazy_df = polars.scan_parquet(output_parquet_file)"
   ]
  },
  {
   "cell_type": "code",
   "execution_count": 5,
   "id": "afd23584-0a5e-4909-a499-b50f5fafa10d",
   "metadata": {},
   "outputs": [
    {
     "data": {
      "text/html": [
       "<i>naive plan: (run <b>LazyFrame.explain(optimized=True)</b> to see the optimized plan)</i>\n",
       "    <p></p>\n",
       "    <div><p></p>  Parquet SCAN /mnt/ssd2/example_cadd_10_query.parquet<p></p>  PROJECT */14 COLUMNS</div>"
      ],
      "text/plain": [
       "<LazyFrame at 0x7F71580FBA90>"
      ]
     },
     "execution_count": 5,
     "metadata": {},
     "output_type": "execute_result"
    }
   ],
   "source": [
    "lazy_df"
   ]
  },
  {
   "cell_type": "code",
   "execution_count": null,
   "id": "4ec29dfb-717f-4a85-8599-62834d82fe76",
   "metadata": {},
   "outputs": [],
   "source": [
    "import pyarrow.parquet as pq\n",
    "\n",
    "df = pq.read_table(output_parquet_file, memory_map=True)\n",
    "df"
   ]
  },
  {
   "cell_type": "code",
   "execution_count": 2,
   "id": "cb722d15-a1a2-4c18-83c3-aee4eb218bd7",
   "metadata": {},
   "outputs": [],
   "source": [
    "import pyarrow as pa\n",
    "from pyarrow import feather\n",
    "import psutil\n",
    "import os\n",
    "\n",
    "def _concatenate_feather_files_memory_mapped(file_list: list[str], output_file: str) -> pa.Table:\n",
    "    # Print memory usage before concatenating\n",
    "    process = psutil.Process(os.getpid())\n",
    "    print(f\"Memory usage before concatenating: {process.memory_info().rss / 1e9}\")\n",
    "    # Open the Feather files using memory mapping\n",
    "    tables = []\n",
    "    for i, file in enumerate(file_list):\n",
    "        tables.append(feather.read_table(file, memory_map=True))\n",
    "        print(f\"Memory usage after concatenating file {i}: {process.memory_info().rss / 1e9}\")\n",
    "    # tables = [feather.read_table(file, memory_map=True) for file in file_list]\n",
    "\n",
    "    # Concatenate the Arrow Tables\n",
    "    concatenated_table = pa.concat_tables(tables)\n",
    "\n",
    "    # Optionally, write the concatenated table to a new Feather file\n",
    "    if output_file:\n",
    "        feather.write_feather(concatenated_table, output_file)\n",
    "\n",
    "    # Print memory usage after concatenating\n",
    "    print(f\"Memory usage after concatenating: {process.memory_info().rss / 1e9}\")\n",
    "\n",
    "    return concatenated_table\n"
   ]
  },
  {
   "cell_type": "code",
   "execution_count": 3,
   "id": "042148e0-af7e-48a1-ba25-e7fb8255e719",
   "metadata": {},
   "outputs": [],
   "source": [
    "# res = _concatenate_feather_files_memory_mapped(files, '/mnt/ssd2/example_cadd_10_query.feather')"
   ]
  },
  {
   "cell_type": "code",
   "execution_count": 4,
   "id": "2839f5c1-bd23-4496-a08c-42b47928976b",
   "metadata": {},
   "outputs": [],
   "source": [
    "import pyarrow.dataset as ds\n",
    "import pyarrow as pa\n",
    "dat = ds.dataset(files, format='arrow')\n",
    "scanner = dat.scanner(batch_size=131000, batch_readahead=1,fragment_readahead=1)"
   ]
  },
  {
   "cell_type": "code",
   "execution_count": 5,
   "id": "fc13d47e-9b21-43bd-a236-7201a92e207f",
   "metadata": {},
   "outputs": [],
   "source": [
    "new_part = ds.partitioning(\n",
    "    pa.schema([(\"chrom\", pa.string()), (\"pos\", pa.int64())]), flavor=\"hive\"\n",
    ")"
   ]
  },
  {
   "cell_type": "code",
   "execution_count": null,
   "id": "2df9fc28-84a9-469a-a9d9-8992ba3435e9",
   "metadata": {},
   "outputs": [],
   "source": [
    "ds.write_dataset(scanner, '/mnt/ssd2/example_cadd_10_query.feather', format='arrow', partitioning=new_part, max_open_files=8)"
   ]
  },
  {
   "cell_type": "code",
   "execution_count": null,
   "id": "8aa29112-bc9c-4af2-b522-75c9c08f405b",
   "metadata": {},
   "outputs": [],
   "source": [
    "from pyarrow import feather\n",
    "df2 = feather.read_('foo', memory_map=True)"
   ]
  },
  {
   "cell_type": "code",
   "execution_count": 2,
   "id": "788c8428-32a7-4563-8d60-3f8a6077cace",
   "metadata": {},
   "outputs": [
    {
     "name": "stdout",
     "output_type": "stream",
     "text": [
      "9.15685376 GB\n"
     ]
    }
   ],
   "source": [
    "import psutil\n",
    "import os\n",
    "\n",
    "process = psutil.Process(os.getpid())\n",
    "print(f\"{process.memory_info().rss / 1e9} GB\")\n"
   ]
  },
  {
   "cell_type": "code",
   "execution_count": 13,
   "id": "b9d7d1d7-c58f-4d5c-98f3-0e87a1f242c7",
   "metadata": {},
   "outputs": [
    {
     "data": {
      "text/plain": [
       "pyarrow.Table\n",
       "chrom: string\n",
       "pos: int64\n",
       "vcfPos: int64\n",
       "inputRef: string\n",
       "alt: string\n",
       "type: string\n",
       "id: string\n",
       "locus: string\n",
       "sample: string\n",
       "dosage: int64\n",
       "refSeq.name2: string\n",
       "refSeq.name: string\n",
       "refSeq.exonicAlleleFunction: string\n",
       "refSeq.siteType: string\n",
       "----\n",
       "chrom: [[\"chr1\",\"chr1\",\"chr1\",\"chr1\",\"chr1\",...,\"chr16\",\"chr16\",\"chr16\",\"chr16\",\"chr16\"],[\"chr16\",\"chr16\",\"chr16\",\"chr16\",\"chr16\",...,\"chrX\",\"chrX\",\"chrX\",\"chrX\",\"chrX\"]]\n",
       "pos: [[63454892,63454892,63454892,63454892,63454892,...,81149720,81149720,81149720,81149720,81149720],[81149720,81149720,81149720,81149720,81149720,...,155941919,155941919,155941919,155941919,155941919]]\n",
       "vcfPos: [[63454892,63454892,63454892,63454892,63454892,...,81149720,81149720,81149720,81149720,81149720],[81149720,81149720,81149720,81149720,81149720,...,155941919,155941919,155941919,155941919,155941919]]\n",
       "inputRef: [[\"G\",\"G\",\"G\",\"G\",\"G\",...,\"T\",\"T\",\"T\",\"T\",\"T\"],[\"T\",\"T\",\"T\",\"T\",\"T\",...,\"G\",\"G\",\"G\",\"G\",\"G\"]]\n",
       "alt: [[\"A\",\"A\",\"A\",\"A\",\"A\",...,\"A\",\"A\",\"A\",\"A\",\"A\"],[\"A\",\"A\",\"A\",\"A\",\"A\",...,\"A\",\"A\",\"A\",\"A\",\"A\"]]\n",
       "type: [[\"SNP\",\"SNP\",\"SNP\",\"SNP\",\"SNP\",...,\"SNP\",\"SNP\",\"SNP\",\"SNP\",\"SNP\"],[\"SNP\",\"SNP\",\"SNP\",\"SNP\",\"SNP\",...,\"SNP\",\"SNP\",\"SNP\",\"SNP\",\"SNP\"]]\n",
       "id: [[\".\",\".\",\".\",\".\",\".\",...,\"rs59980974\",\"rs59980974\",\"rs59980974\",\"rs59980974\",\"rs59980974\"],[\"rs59980974\",\"rs59980974\",\"rs59980974\",\"rs59980974\",\"rs59980974\",...,\".\",\".\",\".\",\".\",\".\"]]\n",
       "locus: [[\"chr1:63454892:G:A\",\"chr1:63454892:G:A\",\"chr1:63454892:G:A\",\"chr1:63454892:G:A\",\"chr1:63454892:G:A\",...,\"chr16:81149720:T:A\",\"chr16:81149720:T:A\",\"chr16:81149720:T:A\",\"chr16:81149720:T:A\",\"chr16:81149720:T:A\"],[\"chr16:81149720:T:A\",\"chr16:81149720:T:A\",\"chr16:81149720:T:A\",\"chr16:81149720:T:A\",\"chr16:81149720:T:A\",...,\"chrX:155941919:G:A\",\"chrX:155941919:G:A\",\"chrX:155941919:G:A\",\"chrX:155941919:G:A\",\"chrX:155941919:G:A\"]]\n",
       "sample: [[\"WGSB3472\",\"WGSB3472\",\"WGSB3472\",\"WGSB3472\",\"WGSB3472\",...,\"46554211\",\"46554211\",\"46622411\",\"46622411\",\"46622411\"],[\"46648011\",\"46648011\",\"46648011\",\"46966411\",\"46966411\",...,\"11328\",\"11328\",\"11328\",\"11328\",\"11328\"]]\n",
       "dosage: [[1,1,1,1,1,...,1,1,1,1,1],[1,1,1,1,1,...,-1,-1,-1,-1,-1]]\n",
       "..."
      ]
     },
     "execution_count": 13,
     "metadata": {},
     "output_type": "execute_result"
    }
   ],
   "source": [
    "query_result_df_array_of_structs_select_fields"
   ]
  },
  {
   "cell_type": "code",
   "execution_count": null,
   "id": "5eb47f6d-c1c5-44f8-a433-1a85d31ffb87",
   "metadata": {},
   "outputs": [],
   "source": [
    "query_result_df_array_of_structs_select_fields.shape"
   ]
  },
  {
   "cell_type": "code",
   "execution_count": null,
   "id": "8cd94d47-dea4-4e26-9667-0ad725f614d6",
   "metadata": {},
   "outputs": [],
   "source": [
    "import pandas as pd\n",
    "df = pd.read_feather('0.feather')\n",
    "df"
   ]
  },
  {
   "cell_type": "code",
   "execution_count": null,
   "id": "0bcb4f4a-e9e7-442e-af13-d7c54128778a",
   "metadata": {},
   "outputs": [],
   "source": [
    "df.memory_usage(deep=True).sum()"
   ]
  },
  {
   "cell_type": "code",
   "execution_count": null,
   "id": "64a99595-4d34-419d-af49-852082c53c1d",
   "metadata": {},
   "outputs": [],
   "source": [
    "df = feather.read_feather('concat.feather', memory_map=True)"
   ]
  },
  {
   "cell_type": "code",
   "execution_count": null,
   "id": "68ec268b-7dbe-4f87-8d92-f5f031283706",
   "metadata": {},
   "outputs": [],
   "source": [
    "df.shape[0]/1e6"
   ]
  },
  {
   "cell_type": "code",
   "execution_count": null,
   "id": "9ef607ad-deec-486e-b466-79409e42c490",
   "metadata": {},
   "outputs": [],
   "source": [
    "import psutil\n",
    "import os\n",
    "psutil.Process(os.getpid()).memory_info().rss / 1e9"
   ]
  },
  {
   "cell_type": "code",
   "execution_count": null,
   "id": "b455e18d-14fd-49bc-851f-6d3df51afd2c",
   "metadata": {},
   "outputs": [],
   "source": [
    "! du -ah 'concat.feather'"
   ]
  },
  {
   "cell_type": "code",
   "execution_count": null,
   "id": "649cb8fe-2507-4f2c-ad9a-baa34b08ab65",
   "metadata": {},
   "outputs": [],
   "source": [
    "! du -ah '0.feather'"
   ]
  },
  {
   "cell_type": "code",
   "execution_count": null,
   "id": "db86f040-b8c9-4bf8-886b-807ac5d99420",
   "metadata": {},
   "outputs": [],
   "source": [
    "concatenate_feather_files_memory_mapped(['0.feather', '0.feather', '0.feather', '0.feather', '0.feather', \n",
    "                                         '0.feather', '0.feather', '0.feather', '0.feather', '0.feather', '0.feather', '0.feather'], output_file='concat.feather')"
   ]
  },
  {
   "cell_type": "code",
   "execution_count": null,
   "id": "15de4b7e-7299-4b08-85be-243286b7e576",
   "metadata": {},
   "outputs": [],
   "source": [
    "4358583520/1e6"
   ]
  },
  {
   "cell_type": "code",
   "execution_count": null,
   "id": "4689dd8d-4e45-4563-92d9-cec08e9ed0c9",
   "metadata": {},
   "outputs": [],
   "source": [
    "pwd"
   ]
  },
  {
   "cell_type": "code",
   "execution_count": null,
   "id": "ccd5369c-dc9f-4270-9cdf-3587b7bb6d4b",
   "metadata": {},
   "outputs": [],
   "source": [
    "query_result_df_array_of_structs_select_fields['sample'].apply(lambda x: \"FOO\" if x == 1847 else \"BAR\")"
   ]
  },
  {
   "cell_type": "code",
   "execution_count": null,
   "id": "5c067957-27ad-4e99-a699-80e54875e884",
   "metadata": {},
   "outputs": [],
   "source": [
    "query_result_df_array_of_structs_select_fields.to_csv('query_result_df_array_of_structs_select_fields_exploded.csv')"
   ]
  },
  {
   "cell_type": "code",
   "execution_count": null,
   "id": "59280be4-7d60-4978-af29-0f64da90eccf",
   "metadata": {},
   "outputs": [],
   "source": [
    "query_result_df_array_of_structs_select_fields[query_result_df_array_of_structs_select_fields['locus'] == \"chr17:40699291:G:A\"]"
   ]
  },
  {
   "cell_type": "code",
   "execution_count": null,
   "id": "fba4a330-b1c5-41f1-a1b4-387777c56732",
   "metadata": {},
   "outputs": [],
   "source": [
    "merged_df = query_result_df_array_of_structs_select_fields.merge(ancestry_df, left_on='sample', right_on='sample_id')"
   ]
  },
  {
   "cell_type": "code",
   "execution_count": null,
   "id": "b32ce0d2-4acb-48a6-93d5-2bbda65b5445",
   "metadata": {},
   "outputs": [],
   "source": [
    "# You can choose to also \"melt\" the dataframe by a field,\n",
    "# so that when the field has an array value, it is flattened\n",
    "# When the primary key of the track isn't found, by default we force that \n",
    "# field to have 1 value per row, and warn you of this behavior.\n",
    "# To change it, set `force_flatten_exploded_field=False`\n",
    "query_result_df = get_annotation_result_from_query(\n",
    "    query_string=\"(type:del && (alt:\\-6 || alt:\\-1)) || (cadd:>40)\",\n",
    "    index_name=index,\n",
    "    bystro_api_auth=user,\n",
    "    melt_samples=True,\n",
    "    explode_field='refSeq.name2',\n",
    "    fields=['refSeq.name2', 'refSeq.spID', 'refSeq.name'],\n",
    "    force_flatten_exploded_field=False\n",
    ")\n",
    "query_result_df[['refSeq.name2', 'refSeq.spID']]"
   ]
  },
  {
   "cell_type": "code",
   "execution_count": null,
   "id": "820b87d3-a16b-4fc2-8769-550b6594655e",
   "metadata": {},
   "outputs": [],
   "source": [
    "# You can disable sample melting by setting `melt_samples=False`\n",
    "query_result_df = await async_get_annotation_result_from_query(\n",
    "    query_string=\"(type:del && (alt:\\-6 || alt:\\-1)) || (cadd:>40)\",\n",
    "    index_name=index,\n",
    "    bystro_api_auth=user,\n",
    "    fields=['refSeq.name2', 'refSeq.name'],\n",
    "    melt_samples=False,\n",
    "    explode_field='refSeq.name2'\n",
    ")\n",
    "query_result_df.head(n=10)"
   ]
  },
  {
   "cell_type": "code",
   "execution_count": null,
   "id": "100870ca-71eb-4af3-a36e-2fbb7f8c9055",
   "metadata": {},
   "outputs": [],
   "source": [
    "# You can also represent tracks that have multiple fields by dictionaries, instead of flattening\n",
    "# the dictionaries into separate columns, by setting `structs_of_arrays=False`\n",
    "# This is currently incompatible with `explode_field` and `fields`\n",
    "query_result_df_array_of_structs_no_melt = get_annotation_result_from_query(\n",
    "    query_string=\"*\",\n",
    "    index_name=index,\n",
    "    bystro_api_auth=user,\n",
    "    structs_of_arrays=False\n",
    ")\n",
    "query_result_df_array_of_structs_no_melt.head(n=10)"
   ]
  }
 ],
 "metadata": {
  "kernelspec": {
   "display_name": "Python 3 (ipykernel)",
   "language": "python",
   "name": "python3"
  },
  "language_info": {
   "codemirror_mode": {
    "name": "ipython",
    "version": 3
   },
   "file_extension": ".py",
   "mimetype": "text/x-python",
   "name": "python",
   "nbconvert_exporter": "python",
   "pygments_lexer": "ipython3",
   "version": "3.11.8"
  }
 },
 "nbformat": 4,
 "nbformat_minor": 5
}
