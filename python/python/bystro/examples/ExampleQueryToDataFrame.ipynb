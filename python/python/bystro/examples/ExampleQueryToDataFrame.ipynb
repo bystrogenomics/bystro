{
 "cells": [
  {
   "cell_type": "code",
   "execution_count": 1,
   "id": "2258e740-1d36-43d5-a2d9-3807692495d4",
   "metadata": {},
   "outputs": [],
   "source": [
    "%load_ext autoreload\n",
    "%autoreload 2"
   ]
  },
  {
   "cell_type": "code",
   "execution_count": 2,
   "id": "e42314cf-ef21-460f-9bd6-41bd9a663862",
   "metadata": {},
   "outputs": [],
   "source": [
    "from bystro.api import auth, annotation\n",
    "from bystro.proteomics.annotation_interface import get_annotation_result_from_query, execute_query\n",
    "import pandas as pd\n",
    "import json"
   ]
  },
  {
   "cell_type": "code",
   "execution_count": 3,
   "id": "ca15c9c2-9050-4370-9871-d1c69e82a194",
   "metadata": {},
   "outputs": [
    {
     "name": "stdout",
     "output_type": "stream",
     "text": [
      "Existing session found, logging out\n"
     ]
    }
   ],
   "source": [
    "user = auth.login('akotlar@bu.edu', 'gonxug-xubram-nUbny6', 'https://bystro-dev.emory.edu', print_result=False)\n",
    "index = '661be6b20f228023b55a6927_657a50d4b2d0278938ba791d'"
   ]
  },
  {
   "cell_type": "code",
   "execution_count": 4,
   "id": "d89a6b89-75a7-4577-bdf1-93e1638eb790",
   "metadata": {},
   "outputs": [],
   "source": [
    "ancestry_json = None\n",
    "\n",
    "with open('ancestry_results.json', 'r') as f:\n",
    "    ancestry_json = json.load(f)"
   ]
  },
  {
   "cell_type": "code",
   "execution_count": 5,
   "id": "d7f7275a-0244-4567-9ef2-ec97ed0c9e52",
   "metadata": {},
   "outputs": [],
   "source": [
    "results = []\n",
    "for row in ancestry_json['results']:\n",
    "    # print(row)\n",
    "    max_superpop_prob = 0\n",
    "    max_superpop_label = None\n",
    "\n",
    "    for superpop, value in row['superpops'].items():\n",
    "        mean = (value['lowerBound'] + value['upperBound']) / 2\n",
    "\n",
    "        if mean > max_superpop_prob:\n",
    "            max_superpop_label = superpop\n",
    "            max_superpop_prob = mean\n",
    "    \n",
    "    results.append({\n",
    "       'sample_id': row['sampleId'],\n",
    "       'superpop_top_hit': superpop,\n",
    "       'superpop_top_hit_prob': max_superpop_prob\n",
    "    })"
   ]
  },
  {
   "cell_type": "code",
   "execution_count": 6,
   "id": "42e8c0ed-e762-4da8-805d-42a7233cb86a",
   "metadata": {},
   "outputs": [
    {
     "data": {
      "text/html": [
       "<div>\n",
       "<style scoped>\n",
       "    .dataframe tbody tr th:only-of-type {\n",
       "        vertical-align: middle;\n",
       "    }\n",
       "\n",
       "    .dataframe tbody tr th {\n",
       "        vertical-align: top;\n",
       "    }\n",
       "\n",
       "    .dataframe thead th {\n",
       "        text-align: right;\n",
       "    }\n",
       "</style>\n",
       "<table border=\"1\" class=\"dataframe\">\n",
       "  <thead>\n",
       "    <tr style=\"text-align: right;\">\n",
       "      <th></th>\n",
       "      <th>sample_id</th>\n",
       "      <th>superpop_top_hit</th>\n",
       "      <th>superpop_top_hit_prob</th>\n",
       "    </tr>\n",
       "  </thead>\n",
       "  <tbody>\n",
       "    <tr>\n",
       "      <th>0</th>\n",
       "      <td>1805</td>\n",
       "      <td>SAS</td>\n",
       "      <td>0.479617</td>\n",
       "    </tr>\n",
       "    <tr>\n",
       "      <th>1</th>\n",
       "      <td>1847</td>\n",
       "      <td>SAS</td>\n",
       "      <td>0.452833</td>\n",
       "    </tr>\n",
       "    <tr>\n",
       "      <th>2</th>\n",
       "      <td>4805</td>\n",
       "      <td>SAS</td>\n",
       "      <td>0.494552</td>\n",
       "    </tr>\n",
       "  </tbody>\n",
       "</table>\n",
       "</div>"
      ],
      "text/plain": [
       "  sample_id superpop_top_hit  superpop_top_hit_prob\n",
       "0      1805              SAS               0.479617\n",
       "1      1847              SAS               0.452833\n",
       "2      4805              SAS               0.494552"
      ]
     },
     "execution_count": 6,
     "metadata": {},
     "output_type": "execute_result"
    }
   ],
   "source": [
    "ancestry_df = pd.DataFrame(results)\n",
    "ancestry_df"
   ]
  },
  {
   "cell_type": "code",
   "execution_count": 7,
   "id": "4f998a9e-17d3-4e28-98bc-61c018b13648",
   "metadata": {},
   "outputs": [],
   "source": [
    "results = annotation.get_jobs('completed')\n",
    "job_id = None\n",
    "index_name = None\n",
    "for res in results:\n",
    "    if 'big_daly' in res.name:\n",
    "        job_id = res._id\n",
    "        break\n",
    "job = annotation.get_jobs(job_id=job_id)"
   ]
  },
  {
   "cell_type": "code",
   "execution_count": 8,
   "id": "3b471a08-0bd0-474e-b6eb-66c56a7162c2",
   "metadata": {},
   "outputs": [
    {
     "data": {
      "text/plain": [
       "{'annotation': 'big_daly_vcf-20240414142242561-20240414142242572.annotation.tsv.gz',\n",
       " 'statistics': {'json': 'big_daly_vcf-20240414142242561-20240414142242572.statistics.json',\n",
       "  'qc': 'big_daly_vcf-20240414142242561-20240414142242572.statistics.qc.tsv',\n",
       "  'tab': 'big_daly_vcf-20240414142242561-20240414142242572.statistics.tsv'},\n",
       " 'config': 'hg38.yml',\n",
       " 'sampleList': 'big_daly_vcf-20240414142242561-20240414142242572.sample_list',\n",
       " 'dosageMatrixOutPath': 'big_daly_vcf-20240414142242561-20240414142242572.dosage.feather',\n",
       " 'header': 'big_daly_vcf-20240414142242561-20240414142242572.annotation.header.json',\n",
       " 'log': 'big_daly_vcf-20240414142242561-20240414142242572.annotation.log.txt'}"
      ]
     },
     "execution_count": 8,
     "metadata": {},
     "output_type": "execute_result"
    }
   ],
   "source": [
    "job['outputFileNames']"
   ]
  },
  {
   "cell_type": "code",
   "execution_count": 9,
   "id": "2d7d0ff7-d32b-47bb-9dd6-015d0cdea50c",
   "metadata": {},
   "outputs": [],
   "source": [
    "index_name = job['search']['indexName']"
   ]
  },
  {
   "cell_type": "code",
   "execution_count": 10,
   "id": "766d288c-530c-410f-826c-1abbc247d8d7",
   "metadata": {},
   "outputs": [
    {
     "data": {
      "text/plain": [
       "'661be6b20f228023b55a6927'"
      ]
     },
     "execution_count": 10,
     "metadata": {},
     "output_type": "execute_result"
    }
   ],
   "source": [
    "job_id"
   ]
  },
  {
   "cell_type": "code",
   "execution_count": 11,
   "id": "8cd94d47-dea4-4e26-9667-0ad725f614d6",
   "metadata": {},
   "outputs": [
    {
     "data": {
      "text/html": [
       "<div>\n",
       "<style scoped>\n",
       "    .dataframe tbody tr th:only-of-type {\n",
       "        vertical-align: middle;\n",
       "    }\n",
       "\n",
       "    .dataframe tbody tr th {\n",
       "        vertical-align: top;\n",
       "    }\n",
       "\n",
       "    .dataframe thead th {\n",
       "        text-align: right;\n",
       "    }\n",
       "</style>\n",
       "<table border=\"1\" class=\"dataframe\">\n",
       "  <thead>\n",
       "    <tr style=\"text-align: right;\">\n",
       "      <th></th>\n",
       "      <th>chrom</th>\n",
       "      <th>pos</th>\n",
       "      <th>vcfPos</th>\n",
       "      <th>inputRef</th>\n",
       "      <th>alt</th>\n",
       "      <th>type</th>\n",
       "      <th>id</th>\n",
       "      <th>locus</th>\n",
       "      <th>sample</th>\n",
       "      <th>dosage</th>\n",
       "      <th>refSeq.name2</th>\n",
       "      <th>refSeq.name</th>\n",
       "      <th>refSeq.exonicAlleleFunction</th>\n",
       "      <th>refSeq.siteType</th>\n",
       "    </tr>\n",
       "  </thead>\n",
       "  <tbody>\n",
       "    <tr>\n",
       "      <th>0</th>\n",
       "      <td>chr1</td>\n",
       "      <td>61862742</td>\n",
       "      <td>61862742</td>\n",
       "      <td>A</td>\n",
       "      <td>C</td>\n",
       "      <td>SNP</td>\n",
       "      <td>.</td>\n",
       "      <td>chr1:61862742:A:C</td>\n",
       "      <td>SKAAWG0403</td>\n",
       "      <td>1</td>\n",
       "      <td>PATJ</td>\n",
       "      <td>NM_001350145</td>\n",
       "      <td>None</td>\n",
       "      <td>intronic</td>\n",
       "    </tr>\n",
       "    <tr>\n",
       "      <th>1</th>\n",
       "      <td>chr1</td>\n",
       "      <td>61862742</td>\n",
       "      <td>61862742</td>\n",
       "      <td>A</td>\n",
       "      <td>C</td>\n",
       "      <td>SNP</td>\n",
       "      <td>.</td>\n",
       "      <td>chr1:61862742:A:C</td>\n",
       "      <td>SKAAWG0403</td>\n",
       "      <td>1</td>\n",
       "      <td>PATJ</td>\n",
       "      <td>NM_176877</td>\n",
       "      <td>None</td>\n",
       "      <td>intronic</td>\n",
       "    </tr>\n",
       "    <tr>\n",
       "      <th>2</th>\n",
       "      <td>chr1</td>\n",
       "      <td>62099353</td>\n",
       "      <td>62099353</td>\n",
       "      <td>T</td>\n",
       "      <td>C</td>\n",
       "      <td>MULTIALLELIC</td>\n",
       "      <td>.</td>\n",
       "      <td>chr1:62099353:T:C</td>\n",
       "      <td>AA25009</td>\n",
       "      <td>1</td>\n",
       "      <td>PATJ</td>\n",
       "      <td>NM_001350145</td>\n",
       "      <td>None</td>\n",
       "      <td>intronic</td>\n",
       "    </tr>\n",
       "    <tr>\n",
       "      <th>3</th>\n",
       "      <td>chr1</td>\n",
       "      <td>62099353</td>\n",
       "      <td>62099353</td>\n",
       "      <td>T</td>\n",
       "      <td>C</td>\n",
       "      <td>MULTIALLELIC</td>\n",
       "      <td>.</td>\n",
       "      <td>chr1:62099353:T:C</td>\n",
       "      <td>AA25009</td>\n",
       "      <td>1</td>\n",
       "      <td>PATJ</td>\n",
       "      <td>NM_176877</td>\n",
       "      <td>None</td>\n",
       "      <td>intronic</td>\n",
       "    </tr>\n",
       "    <tr>\n",
       "      <th>4</th>\n",
       "      <td>chr1</td>\n",
       "      <td>62099353</td>\n",
       "      <td>62099353</td>\n",
       "      <td>T</td>\n",
       "      <td>C</td>\n",
       "      <td>MULTIALLELIC</td>\n",
       "      <td>.</td>\n",
       "      <td>chr1:62099353:T:C</td>\n",
       "      <td>11328</td>\n",
       "      <td>-1</td>\n",
       "      <td>PATJ</td>\n",
       "      <td>NM_001350145</td>\n",
       "      <td>None</td>\n",
       "      <td>intronic</td>\n",
       "    </tr>\n",
       "    <tr>\n",
       "      <th>...</th>\n",
       "      <td>...</td>\n",
       "      <td>...</td>\n",
       "      <td>...</td>\n",
       "      <td>...</td>\n",
       "      <td>...</td>\n",
       "      <td>...</td>\n",
       "      <td>...</td>\n",
       "      <td>...</td>\n",
       "      <td>...</td>\n",
       "      <td>...</td>\n",
       "      <td>...</td>\n",
       "      <td>...</td>\n",
       "      <td>...</td>\n",
       "      <td>...</td>\n",
       "    </tr>\n",
       "    <tr>\n",
       "      <th>6625026</th>\n",
       "      <td>chrX</td>\n",
       "      <td>155127657</td>\n",
       "      <td>155127657</td>\n",
       "      <td>A</td>\n",
       "      <td>G</td>\n",
       "      <td>SNP</td>\n",
       "      <td>rs116550561</td>\n",
       "      <td>chrX:155127657:A:G</td>\n",
       "      <td>WGSB4966</td>\n",
       "      <td>2</td>\n",
       "      <td>None</td>\n",
       "      <td>None</td>\n",
       "      <td>None</td>\n",
       "      <td>None</td>\n",
       "    </tr>\n",
       "    <tr>\n",
       "      <th>6625027</th>\n",
       "      <td>chrX</td>\n",
       "      <td>155258730</td>\n",
       "      <td>155258730</td>\n",
       "      <td>A</td>\n",
       "      <td>G</td>\n",
       "      <td>SNP</td>\n",
       "      <td>.</td>\n",
       "      <td>chrX:155258730:A:G</td>\n",
       "      <td>WGSB3658</td>\n",
       "      <td>1</td>\n",
       "      <td>RAB39B</td>\n",
       "      <td>NM_171998</td>\n",
       "      <td>None</td>\n",
       "      <td>UTR3</td>\n",
       "    </tr>\n",
       "    <tr>\n",
       "      <th>6625028</th>\n",
       "      <td>chrX</td>\n",
       "      <td>155631867</td>\n",
       "      <td>155631867</td>\n",
       "      <td>A</td>\n",
       "      <td>G</td>\n",
       "      <td>SNP</td>\n",
       "      <td>.</td>\n",
       "      <td>chrX:155631867:A:G</td>\n",
       "      <td>11607</td>\n",
       "      <td>1</td>\n",
       "      <td>SPRY3</td>\n",
       "      <td>NM_001304990</td>\n",
       "      <td>None</td>\n",
       "      <td>intronic</td>\n",
       "    </tr>\n",
       "    <tr>\n",
       "      <th>6625029</th>\n",
       "      <td>chrX</td>\n",
       "      <td>155787161</td>\n",
       "      <td>155787161</td>\n",
       "      <td>C</td>\n",
       "      <td>T</td>\n",
       "      <td>SNP</td>\n",
       "      <td>.</td>\n",
       "      <td>chrX:155787161:C:T</td>\n",
       "      <td>AB36282268</td>\n",
       "      <td>1</td>\n",
       "      <td>None</td>\n",
       "      <td>None</td>\n",
       "      <td>None</td>\n",
       "      <td>None</td>\n",
       "    </tr>\n",
       "    <tr>\n",
       "      <th>6625030</th>\n",
       "      <td>chrX</td>\n",
       "      <td>155787161</td>\n",
       "      <td>155787161</td>\n",
       "      <td>C</td>\n",
       "      <td>T</td>\n",
       "      <td>SNP</td>\n",
       "      <td>.</td>\n",
       "      <td>chrX:155787161:C:T</td>\n",
       "      <td>WGSB4319</td>\n",
       "      <td>1</td>\n",
       "      <td>None</td>\n",
       "      <td>None</td>\n",
       "      <td>None</td>\n",
       "      <td>None</td>\n",
       "    </tr>\n",
       "  </tbody>\n",
       "</table>\n",
       "<p>6625031 rows × 14 columns</p>\n",
       "</div>"
      ],
      "text/plain": [
       "        chrom        pos     vcfPos inputRef alt          type           id  \\\n",
       "0        chr1   61862742   61862742        A   C           SNP            .   \n",
       "1        chr1   61862742   61862742        A   C           SNP            .   \n",
       "2        chr1   62099353   62099353        T   C  MULTIALLELIC            .   \n",
       "3        chr1   62099353   62099353        T   C  MULTIALLELIC            .   \n",
       "4        chr1   62099353   62099353        T   C  MULTIALLELIC            .   \n",
       "...       ...        ...        ...      ...  ..           ...          ...   \n",
       "6625026  chrX  155127657  155127657        A   G           SNP  rs116550561   \n",
       "6625027  chrX  155258730  155258730        A   G           SNP            .   \n",
       "6625028  chrX  155631867  155631867        A   G           SNP            .   \n",
       "6625029  chrX  155787161  155787161        C   T           SNP            .   \n",
       "6625030  chrX  155787161  155787161        C   T           SNP            .   \n",
       "\n",
       "                      locus      sample  dosage refSeq.name2   refSeq.name  \\\n",
       "0         chr1:61862742:A:C  SKAAWG0403       1         PATJ  NM_001350145   \n",
       "1         chr1:61862742:A:C  SKAAWG0403       1         PATJ     NM_176877   \n",
       "2         chr1:62099353:T:C     AA25009       1         PATJ  NM_001350145   \n",
       "3         chr1:62099353:T:C     AA25009       1         PATJ     NM_176877   \n",
       "4         chr1:62099353:T:C       11328      -1         PATJ  NM_001350145   \n",
       "...                     ...         ...     ...          ...           ...   \n",
       "6625026  chrX:155127657:A:G    WGSB4966       2         None          None   \n",
       "6625027  chrX:155258730:A:G    WGSB3658       1       RAB39B     NM_171998   \n",
       "6625028  chrX:155631867:A:G       11607       1        SPRY3  NM_001304990   \n",
       "6625029  chrX:155787161:C:T  AB36282268       1         None          None   \n",
       "6625030  chrX:155787161:C:T    WGSB4319       1         None          None   \n",
       "\n",
       "        refSeq.exonicAlleleFunction refSeq.siteType  \n",
       "0                              None        intronic  \n",
       "1                              None        intronic  \n",
       "2                              None        intronic  \n",
       "3                              None        intronic  \n",
       "4                              None        intronic  \n",
       "...                             ...             ...  \n",
       "6625026                        None            None  \n",
       "6625027                        None            UTR3  \n",
       "6625028                        None        intronic  \n",
       "6625029                        None            None  \n",
       "6625030                        None            None  \n",
       "\n",
       "[6625031 rows x 14 columns]"
      ]
     },
     "execution_count": 11,
     "metadata": {},
     "output_type": "execute_result"
    }
   ],
   "source": [
    "import pandas as pd\n",
    "df = pd.read_feather('0.feather')\n",
    "df"
   ]
  },
  {
   "cell_type": "code",
   "execution_count": null,
   "id": "0bcb4f4a-e9e7-442e-af13-d7c54128778a",
   "metadata": {},
   "outputs": [],
   "source": [
    "df.memory_usage(deep=True).sum()"
   ]
  },
  {
   "cell_type": "code",
   "execution_count": null,
   "id": "5e41a430-e2b6-4fae-b68c-904e01358de2",
   "metadata": {},
   "outputs": [],
   "source": [
    "import pyarrow as pa\n",
    "import pyarrow.feather as feather\n",
    "\n",
    "def concatenate_feather_files_memory_mapped(file_list, output_file=None):\n",
    "    # Open the Feather files using memory mapping\n",
    "    tables = [feather.read_table(file, memory_map=True) for file in file_list]\n",
    "\n",
    "    # Concatenate the Arrow Tables\n",
    "    concatenated_table = pa.concat_tables(tables)\n",
    "    \n",
    "    # Optionally, write the concatenated table to a new Feather file\n",
    "    if output_file:\n",
    "        feather.write_feather(concatenated_table, output_file)\n",
    "    \n",
    "    return concatenated_table\n"
   ]
  },
  {
   "cell_type": "code",
   "execution_count": null,
   "id": "64a99595-4d34-419d-af49-852082c53c1d",
   "metadata": {},
   "outputs": [],
   "source": [
    "df = feather.read_feather('concat.feather', memory_map=True)"
   ]
  },
  {
   "cell_type": "code",
   "execution_count": null,
   "id": "68ec268b-7dbe-4f87-8d92-f5f031283706",
   "metadata": {},
   "outputs": [],
   "source": [
    "df.shape[0]/1e6"
   ]
  },
  {
   "cell_type": "code",
   "execution_count": null,
   "id": "9ef607ad-deec-486e-b466-79409e42c490",
   "metadata": {},
   "outputs": [],
   "source": [
    "import psutil\n",
    "import os\n",
    "psutil.Process(os.getpid()).memory_info().rss / 1e9"
   ]
  },
  {
   "cell_type": "code",
   "execution_count": null,
   "id": "b455e18d-14fd-49bc-851f-6d3df51afd2c",
   "metadata": {},
   "outputs": [],
   "source": [
    "! du -ah 'concat.feather'"
   ]
  },
  {
   "cell_type": "code",
   "execution_count": null,
   "id": "649cb8fe-2507-4f2c-ad9a-baa34b08ab65",
   "metadata": {},
   "outputs": [],
   "source": [
    "! du -ah '0.feather'"
   ]
  },
  {
   "cell_type": "code",
   "execution_count": null,
   "id": "db86f040-b8c9-4bf8-886b-807ac5d99420",
   "metadata": {},
   "outputs": [],
   "source": [
    "concatenate_feather_files_memory_mapped(['0.feather', '0.feather', '0.feather', '0.feather', '0.feather', \n",
    "                                         '0.feather', '0.feather', '0.feather', '0.feather', '0.feather', '0.feather', '0.feather'], output_file='concat.feather')"
   ]
  },
  {
   "cell_type": "code",
   "execution_count": null,
   "id": "15de4b7e-7299-4b08-85be-243286b7e576",
   "metadata": {},
   "outputs": [],
   "source": [
    "4358583520/1e6"
   ]
  },
  {
   "cell_type": "code",
   "execution_count": null,
   "id": "4689dd8d-4e45-4563-92d9-cec08e9ed0c9",
   "metadata": {},
   "outputs": [],
   "source": [
    "pwd"
   ]
  },
  {
   "cell_type": "code",
   "execution_count": null,
   "id": "e7024b8d-9206-496f-8c8d-71d58a3c208b",
   "metadata": {},
   "outputs": [],
   "source": [
    "# Default behavior is to show 1 sample per row, e.g. `melt_samples=True`\n",
    "query_result_df_array_of_structs_select_fields = get_annotation_result_from_query(\n",
    "    query_string=\"cadd:>20\",\n",
    "    index_name=index_name,\n",
    "    bystro_api_auth=user,\n",
    "    fields=['refSeq.name2', 'refSeq.name', 'refSeq.exonicAlleleFunction', 'refSeq.siteType'],\n",
    "    explode_field='refSeq.name2',\n",
    "    tmp_dir='/mnt/ssd1/bystro/python/python/bystro/examples/tmp',\n",
    "    output_path='foo'\n",
    ")\n",
    "query_result_df_array_of_structs_select_fields.head(n=10)"
   ]
  },
  {
   "cell_type": "code",
   "execution_count": null,
   "id": "ccd5369c-dc9f-4270-9cdf-3587b7bb6d4b",
   "metadata": {},
   "outputs": [],
   "source": [
    "query_result_df_array_of_structs_select_fields['sample'].apply(lambda x: \"FOO\" if x == 1847 else \"BAR\")"
   ]
  },
  {
   "cell_type": "code",
   "execution_count": null,
   "id": "5c067957-27ad-4e99-a699-80e54875e884",
   "metadata": {},
   "outputs": [],
   "source": [
    "query_result_df_array_of_structs_select_fields.to_csv('query_result_df_array_of_structs_select_fields_exploded.csv')"
   ]
  },
  {
   "cell_type": "code",
   "execution_count": null,
   "id": "59280be4-7d60-4978-af29-0f64da90eccf",
   "metadata": {},
   "outputs": [],
   "source": [
    "query_result_df_array_of_structs_select_fields[query_result_df_array_of_structs_select_fields['locus'] == \"chr17:40699291:G:A\"]"
   ]
  },
  {
   "cell_type": "code",
   "execution_count": null,
   "id": "fba4a330-b1c5-41f1-a1b4-387777c56732",
   "metadata": {},
   "outputs": [],
   "source": [
    "merged_df = query_result_df_array_of_structs_select_fields.merge(ancestry_df, left_on='sample', right_on='sample_id')"
   ]
  },
  {
   "cell_type": "code",
   "execution_count": null,
   "id": "b32ce0d2-4acb-48a6-93d5-2bbda65b5445",
   "metadata": {},
   "outputs": [],
   "source": [
    "# You can choose to also \"melt\" the dataframe by a field,\n",
    "# so that when the field has an array value, it is flattened\n",
    "# When the primary key of the track isn't found, by default we force that \n",
    "# field to have 1 value per row, and warn you of this behavior.\n",
    "# To change it, set `force_flatten_exploded_field=False`\n",
    "query_result_df = get_annotation_result_from_query(\n",
    "    query_string=\"(type:del && (alt:\\-6 || alt:\\-1)) || (cadd:>40)\",\n",
    "    index_name=index,\n",
    "    bystro_api_auth=user,\n",
    "    melt_samples=True,\n",
    "    explode_field='refSeq.name2',\n",
    "    fields=['refSeq.name2', 'refSeq.spID', 'refSeq.name'],\n",
    "    force_flatten_exploded_field=False\n",
    ")\n",
    "query_result_df[['refSeq.name2', 'refSeq.spID']]"
   ]
  },
  {
   "cell_type": "code",
   "execution_count": null,
   "id": "820b87d3-a16b-4fc2-8769-550b6594655e",
   "metadata": {},
   "outputs": [],
   "source": [
    "# You can disable sample melting by setting `melt_samples=False`\n",
    "query_result_df = await async_get_annotation_result_from_query(\n",
    "    query_string=\"(type:del && (alt:\\-6 || alt:\\-1)) || (cadd:>40)\",\n",
    "    index_name=index,\n",
    "    bystro_api_auth=user,\n",
    "    fields=['refSeq.name2', 'refSeq.name'],\n",
    "    melt_samples=False,\n",
    "    explode_field='refSeq.name2'\n",
    ")\n",
    "query_result_df.head(n=10)"
   ]
  },
  {
   "cell_type": "code",
   "execution_count": null,
   "id": "100870ca-71eb-4af3-a36e-2fbb7f8c9055",
   "metadata": {},
   "outputs": [],
   "source": [
    "# You can also represent tracks that have multiple fields by dictionaries, instead of flattening\n",
    "# the dictionaries into separate columns, by setting `structs_of_arrays=False`\n",
    "# This is currently incompatible with `explode_field` and `fields`\n",
    "query_result_df_array_of_structs_no_melt = get_annotation_result_from_query(\n",
    "    query_string=\"*\",\n",
    "    index_name=index,\n",
    "    bystro_api_auth=user,\n",
    "    structs_of_arrays=False\n",
    ")\n",
    "query_result_df_array_of_structs_no_melt.head(n=10)"
   ]
  }
 ],
 "metadata": {
  "kernelspec": {
   "display_name": "Python 3 (ipykernel)",
   "language": "python",
   "name": "python3"
  },
  "language_info": {
   "codemirror_mode": {
    "name": "ipython",
    "version": 3
   },
   "file_extension": ".py",
   "mimetype": "text/x-python",
   "name": "python",
   "nbconvert_exporter": "python",
   "pygments_lexer": "ipython3",
   "version": "3.11.8"
  }
 },
 "nbformat": 4,
 "nbformat_minor": 5
}
