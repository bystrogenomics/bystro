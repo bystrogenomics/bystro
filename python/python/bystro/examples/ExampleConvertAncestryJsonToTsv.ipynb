{
 "cells": [
  {
   "cell_type": "code",
   "execution_count": 1,
   "id": "33c2c19f-bf27-4574-a49e-ae6ea2459a18",
   "metadata": {},
   "outputs": [],
   "source": [
    "from bystro.api.ancestry import ancestry_json_to_format"
   ]
  },
  {
   "cell_type": "code",
   "execution_count": 4,
   "id": "645741ba-b3a6-4ce1-a7da-a8e5f85ddad1",
   "metadata": {},
   "outputs": [],
   "source": [
    "ancestry_json_to_format(input_json_path='../api/tests/ancestry_input.json',\n",
    "                        output_path='foo/bar.tsv', output_format='tsv')"
   ]
  }
 ],
 "metadata": {
  "kernelspec": {
   "display_name": "Python 3 (ipykernel)",
   "language": "python",
   "name": "python3"
  },
  "language_info": {
   "codemirror_mode": {
    "name": "ipython",
    "version": 3
   },
   "file_extension": ".py",
   "mimetype": "text/x-python",
   "name": "python",
   "nbconvert_exporter": "python",
   "pygments_lexer": "ipython3",
   "version": "3.11.9"
  }
 },
 "nbformat": 4,
 "nbformat_minor": 5
}
